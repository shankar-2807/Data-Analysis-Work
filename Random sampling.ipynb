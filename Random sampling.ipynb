{
 "cells": [
  {
   "cell_type": "code",
   "execution_count": 1,
   "id": "fe2b6979",
   "metadata": {},
   "outputs": [],
   "source": [
    "import numpy as np"
   ]
  },
  {
   "cell_type": "code",
   "execution_count": 59,
   "id": "585b3a11",
   "metadata": {},
   "outputs": [
    {
     "data": {
      "text/plain": [
       "0.48094256674830993"
      ]
     },
     "execution_count": 59,
     "metadata": {},
     "output_type": "execute_result"
    }
   ],
   "source": [
    "np.random.random()  #return random float value"
   ]
  },
  {
   "cell_type": "code",
   "execution_count": 70,
   "id": "bb8e4789",
   "metadata": {},
   "outputs": [
    {
     "data": {
      "text/plain": [
       "array([[[8, 3, 8, 1],\n",
       "        [9, 7, 8, 9],\n",
       "        [1, 7, 7, 5]],\n",
       "\n",
       "       [[1, 5, 7, 1],\n",
       "        [6, 4, 8, 2],\n",
       "        [3, 5, 7, 4]],\n",
       "\n",
       "       [[6, 6, 5, 2],\n",
       "        [3, 3, 8, 4],\n",
       "        [2, 8, 3, 1]],\n",
       "\n",
       "       [[5, 9, 4, 9],\n",
       "        [6, 9, 8, 4],\n",
       "        [8, 9, 3, 8]],\n",
       "\n",
       "       [[9, 2, 8, 3],\n",
       "        [2, 4, 2, 3],\n",
       "        [2, 9, 1, 9]]])"
      ]
     },
     "execution_count": 70,
     "metadata": {},
     "output_type": "execute_result"
    }
   ],
   "source": [
    "np.random.randint(1,10,(5,3,4))"
   ]
  },
  {
   "cell_type": "code",
   "execution_count": 73,
   "id": "38ef2738",
   "metadata": {},
   "outputs": [
    {
     "data": {
      "text/plain": [
       "array([[0.42295775, 0.43735485, 0.89788432, 0.63522366],\n",
       "       [0.10539425, 0.98593139, 0.96104241, 0.58272602],\n",
       "       [0.27286585, 0.49559486, 0.70635188, 0.81563184]])"
      ]
     },
     "execution_count": 73,
     "metadata": {},
     "output_type": "execute_result"
    }
   ],
   "source": [
    "np.random.rand(3, 4)  #0, 1"
   ]
  },
  {
   "cell_type": "code",
   "execution_count": 74,
   "id": "a2c0af6a",
   "metadata": {},
   "outputs": [
    {
     "data": {
      "text/plain": [
       "array([ 1.83266468,  0.38964625,  0.28766943,  0.17430935, -0.91607415,\n",
       "       -0.87003561,  0.3980957 , -0.66167244, -0.05741132, -0.66208855])"
      ]
     },
     "execution_count": 74,
     "metadata": {},
     "output_type": "execute_result"
    }
   ],
   "source": [
    "np.random.randn(10)  #Bell curve"
   ]
  },
  {
   "cell_type": "code",
   "execution_count": 99,
   "id": "bc7b3e98",
   "metadata": {},
   "outputs": [
    {
     "data": {
      "text/plain": [
       "array([4, 3])"
      ]
     },
     "execution_count": 99,
     "metadata": {},
     "output_type": "execute_result"
    }
   ],
   "source": [
    "np.random.choice([1,2,3,4,5,6], 2)"
   ]
  },
  {
   "cell_type": "code",
   "execution_count": 109,
   "id": "cd3ea5ff",
   "metadata": {},
   "outputs": [
    {
     "data": {
      "text/plain": [
       "array([4, 5, 2, 3, 6, 1])"
      ]
     },
     "execution_count": 109,
     "metadata": {},
     "output_type": "execute_result"
    }
   ],
   "source": [
    "arr = np.array([1, 2, 3, 4, 5, 6])\n",
    "np.random.permutation(arr)"
   ]
  },
  {
   "cell_type": "code",
   "execution_count": null,
   "id": "f2be3103",
   "metadata": {},
   "outputs": [],
   "source": []
  }
 ],
 "metadata": {
  "kernelspec": {
   "display_name": "Python 3 (ipykernel)",
   "language": "python",
   "name": "python3"
  },
  "language_info": {
   "codemirror_mode": {
    "name": "ipython",
    "version": 3
   },
   "file_extension": ".py",
   "mimetype": "text/x-python",
   "name": "python",
   "nbconvert_exporter": "python",
   "pygments_lexer": "ipython3",
   "version": "3.10.5"
  }
 },
 "nbformat": 4,
 "nbformat_minor": 5
}
